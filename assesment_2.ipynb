{
  "nbformat": 4,
  "nbformat_minor": 0,
  "metadata": {
    "colab": {
      "name": "assesment 2.ipynb",
      "provenance": []
    },
    "kernelspec": {
      "name": "python3",
      "display_name": "Python 3"
    }
  },
  "cells": [
    {
      "cell_type": "markdown",
      "metadata": {
        "id": "fzISn_JA7dWA"
      },
      "source": [
        "Questions 1:\n",
        "Create an empty list. Accept 10 numbers from the user and append to it the list if it is an even number."
      ]
    },
    {
      "cell_type": "code",
      "metadata": {
        "id": "HfzwVurL7hka",
        "outputId": "3ed7890a-9198-4f54-871f-098a0516600e",
        "colab": {
          "base_uri": "https://localhost:8080/"
        }
      },
      "source": [
        "lst = []\n",
        "for i in range(0,10):\n",
        "    x = int(input(\"\\nEnter the value : \"))\n",
        "    lst.append(x)\n",
        "\n",
        "even_lst = []\n",
        "for i in lst:\n",
        "    if(i%2==0):\n",
        "        even_lst.append(i)\n",
        "        \n",
        "print(\"\\nThe even list\",even_lst)"
      ],
      "execution_count": 32,
      "outputs": [
        {
          "output_type": "stream",
          "text": [
            "\n",
            "Enter the value : 1\n",
            "\n",
            "Enter the value : 2\n",
            "\n",
            "Enter the value : 3\n",
            "\n",
            "Enter the value : 4\n",
            "\n",
            "Enter the value : 5\n",
            "\n",
            "Enter the value : 6\n",
            "\n",
            "Enter the value : 7\n",
            "\n",
            "Enter the value : 8\n",
            "\n",
            "Enter the value : 9\n",
            "\n",
            "Enter the value : 10\n",
            "\n",
            "The even list [2, 4, 6, 8, 10]\n"
          ],
          "name": "stdout"
        }
      ]
    },
    {
      "cell_type": "markdown",
      "metadata": {
        "id": "nfSQNtKXLE6A"
      },
      "source": [
        "Question - 2\n",
        "\n",
        "\n",
        "Create a notebook on LIST COMPREHENSION. This exercise is to put you in a Self learning mode\n",
        "List comprehensions are used for creating new lists from other iterables.\n",
        "As list comprehensions return lists, they consist of brackets containing the expression, which is executed for each element along with the for loop to iterate over each element.\n",
        "Syntax:\n",
        "new_list = (value for_loop condition)\n",
        "\n",
        "\n",
        "Example:"
      ]
    },
    {
      "cell_type": "code",
      "metadata": {
        "id": "nbKBbBv7LMQk",
        "outputId": "8423819d-c4ed-4e95-9596-83165d367547",
        "colab": {
          "base_uri": "https://localhost:8080/"
        }
      },
      "source": [
        "lst = [1, 2, 3, 4, 5, 6, 7, 8]\n",
        "even_lst = [i for i in lst if i%2==0 ]\n",
        "\n",
        "print(even_lst)"
      ],
      "execution_count": 33,
      "outputs": [
        {
          "output_type": "stream",
          "text": [
            "[2, 4, 6, 8]\n"
          ],
          "name": "stdout"
        }
      ]
    },
    {
      "cell_type": "markdown",
      "metadata": {
        "id": "JTLeUfIGMNLi"
      },
      "source": [
        "Questions 3:\n",
        "\n",
        "\n",
        "You have seen in the videos how powerful dictionary data structure is.\n",
        "In this assignment, given a number n, you have to write a program that generates a dictionary d which\n",
        "contains (i, i*i), where i is from 1 to n (both included).\n",
        "Then you have to just print this dictionary d."
      ]
    },
    {
      "cell_type": "code",
      "metadata": {
        "id": "AchXyhQYMOBM",
        "outputId": "e7a8750a-1b1a-4077-82bc-8a792afaacdf",
        "colab": {
          "base_uri": "https://localhost:8080/"
        }
      },
      "source": [
        "d = {}\n",
        "n = int(input())\n",
        "\n",
        "for i in range(1,n+1):\n",
        "  d[i] = i*i\n",
        "\n",
        "print(d)"
      ],
      "execution_count": 35,
      "outputs": [
        {
          "output_type": "stream",
          "text": [
            "5\n",
            "{1: 1, 2: 4, 3: 9, 4: 16}\n"
          ],
          "name": "stdout"
        }
      ]
    },
    {
      "cell_type": "markdown",
      "metadata": {
        "id": "mdC8k50hNVHo"
      },
      "source": [
        "Question - 4:\n",
        "\n",
        "Write a program to compute the distance between the current position after a sequence of movement and original point. If the distance is a float, then just print the nearest integer (use round() function for that and then convert it into an integer)."
      ]
    },
    {
      "cell_type": "code",
      "metadata": {
        "id": "NNn6LN96NWme"
      },
      "source": [
        "#  creating a origin position\n",
        "pos = {\"x\":0,\"y\":0}\n",
        "\n",
        "# getting movement from user\n",
        "n = int(input())\n",
        "\n",
        "# for loop\n",
        "for i in range (n):\n",
        "    move =  input().split(\" \")      # ACCEPT MOVEMENT COMMAND AND STORE AS A LIST\n",
        "    \n",
        "    if move[0].lower() == \"up\":     # EXTRACT DIRECTION AND COMPARE\n",
        "        pos[\"y\"] += int(move[1])    # INCREMENT/DECREMENT APPROPRIATE CO-ORDINATES\n",
        "    \n",
        "    elif move[0].lower() == \"down\":\n",
        "        pos[\"y\"] -= int(move[1])\n",
        "    \n",
        "    elif move[0].lower() == \"left\":\n",
        "        pos[\"x\"] -= int(move[1])\n",
        "    \n",
        "    elif move[0].lower() == \"right\":\n",
        "        pos[\"x\"] += int(move[1])\n",
        "\n",
        "#  printing the result\n",
        "\n",
        "print(int(round((pos[\"x\"]**2 + pos[\"y\"]**2)**0.5)))   # DISTANCE FROM ORIGIN"
      ],
      "execution_count": null,
      "outputs": []
    }
  ]
}