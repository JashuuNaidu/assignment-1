{
  "nbformat": 4,
  "nbformat_minor": 0,
  "metadata": {
    "colab": {
      "name": "assignment 1.ipynb",
      "provenance": [],
      "collapsed_sections": [],
      "authorship_tag": "ABX9TyPw1nmtFUF8OXbqoFmgBPEy",
      "include_colab_link": true
    },
    "kernelspec": {
      "name": "python3",
      "display_name": "Python 3"
    }
  },
  "cells": [
    {
      "cell_type": "markdown",
      "metadata": {
        "id": "view-in-github",
        "colab_type": "text"
      },
      "source": [
        "<a href=\"https://colab.research.google.com/github/JashuuNaidu/assignment-1/blob/main/DS%20Assignment%201.ipynb\" target=\"_parent\"><img src=\"https://colab.research.google.com/assets/colab-badge.svg\" alt=\"Open In Colab\"/></a>"
      ]
    },
    {
      "cell_type": "markdown",
      "metadata": {
        "id": "_oXcuVHZl5ID"
      },
      "source": [
        "Questions 1:\n",
        "Given the following jumbled word, OBANWRI guess the correct English word.\n",
        "\n",
        "\n",
        "B. RAINBOW\n",
        "\n",
        "\n",
        "\n"
      ]
    },
    {
      "cell_type": "markdown",
      "metadata": {
        "id": "0FhQ87pYmJYo"
      },
      "source": [
        "Questions 2:\n",
        "Write a program which prints “LETS UPGRADE”. (Please note that you have to\n",
        "print in ALL CAPS as given)"
      ]
    },
    {
      "cell_type": "code",
      "metadata": {
        "id": "knr_L7O-mTYH",
        "outputId": "a1f16e42-47ca-467b-b42a-3ae5d72e1f4d",
        "colab": {
          "base_uri": "https://localhost:8080/"
        }
      },
      "source": [
        "a = 'LETS UPGRADE'\n",
        "print(a)"
      ],
      "execution_count": 8,
      "outputs": [
        {
          "output_type": "stream",
          "text": [
            "LETS UPGRADE\n"
          ],
          "name": "stdout"
        }
      ]
    },
    {
      "cell_type": "code",
      "metadata": {
        "id": "PS5HGM8PoP2f",
        "outputId": "e348195c-9453-4dc3-fe34-cc6874d81f27",
        "colab": {
          "base_uri": "https://localhost:8080/"
        }
      },
      "source": [
        "print(\"LETS UPGRADE\")"
      ],
      "execution_count": 9,
      "outputs": [
        {
          "output_type": "stream",
          "text": [
            "LETS UPGRADE\n"
          ],
          "name": "stdout"
        }
      ]
    },
    {
      "cell_type": "markdown",
      "metadata": {
        "id": "Zzk-a5HZop9p"
      },
      "source": [
        "Questions 3:\n",
        "Write a program that takes cost price and selling price as input and displays whether the transaction is a\n",
        "Profit or a Loss or Neither.\n",
        "INPUT FORMAT\n",
        "The first line contains the cost price.\n",
        "The second line contains the selling price."
      ]
    },
    {
      "cell_type": "code",
      "metadata": {
        "id": "AYjyKrK_xIDD",
        "outputId": "896f5fe9-7c96-4238-fed7-9bd98b815bd8",
        "colab": {
          "base_uri": "https://localhost:8080/"
        }
      },
      "source": [
        "cost_price= int(input())\n",
        "selling_price= int(input())\n",
        "if cost_price < selling_price:\n",
        "  print(\"profit\")\n",
        "elif cost_price > selling_price:\n",
        "  print(\"loss\")\n",
        "else :\n",
        "  print(\"neither\")"
      ],
      "execution_count": 59,
      "outputs": [
        {
          "output_type": "stream",
          "text": [
            "19\n",
            "95\n",
            "profit\n"
          ],
          "name": "stdout"
        }
      ]
    },
    {
      "cell_type": "markdown",
      "metadata": {
        "id": "qBFowX4k0f4b"
      },
      "source": [
        "Questions 4:\n",
        "Write a program that takes an amount in Euros as input. You need to find its equivalent in\n",
        "Rupees and display it. Assume 1 Euro equals Rs. 80."
      ]
    },
    {
      "cell_type": "code",
      "metadata": {
        "id": "TpaGVT7W03W4",
        "outputId": "b676eaa6-ac92-46ee-e6ca-07d6f7fc6956",
        "colab": {
          "base_uri": "https://localhost:8080/"
        }
      },
      "source": [
        "euros=int(input())\n",
        "print(euros*80)"
      ],
      "execution_count": 70,
      "outputs": [
        {
          "output_type": "stream",
          "text": [
            "18\n",
            "1440\n"
          ],
          "name": "stdout"
        }
      ]
    }
  ]
}